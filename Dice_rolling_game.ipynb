{
 "cells": [
  {
   "cell_type": "code",
   "execution_count": null,
   "id": "f7412f4e",
   "metadata": {},
   "outputs": [],
   "source": [
    "guess = 5\n",
    "chance = 0\n",
    "while True:\n",
    "    chance+=1\n",
    "    g = int(input(\"ROLL THE DICE:- \"))\n",
    "    print(\"YOU GOT ANOTHER CHANCE......\")\n",
    "    if g == guess:\n",
    "        print(\" **** YOU WIN THE GAME **** \")\n",
    "        break\n",
    "    if chance == 5:\n",
    "        print(\" **** YOU LOOSE THE GAME **** \")\n",
    "        break"
   ]
  }
 ],
 "metadata": {
  "kernelspec": {
   "display_name": "Python 3",
   "language": "python",
   "name": "python3"
  },
  "language_info": {
   "codemirror_mode": {
    "name": "ipython",
    "version": 3
   },
   "file_extension": ".py",
   "mimetype": "text/x-python",
   "name": "python",
   "nbconvert_exporter": "python",
   "pygments_lexer": "ipython3",
   "version": "3.8.8"
  }
 },
 "nbformat": 4,
 "nbformat_minor": 5
}
