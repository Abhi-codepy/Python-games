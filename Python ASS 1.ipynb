{
 "cells": [
  {
   "cell_type": "code",
   "execution_count": 2,
   "id": "cb0a8957",
   "metadata": {},
   "outputs": [
    {
     "name": "stdout",
     "output_type": "stream",
     "text": [
      "Enter Burger Name:- ss\n",
      "Enter Price:- 22\n",
      "Enter toppings:- sss\n",
      "Enter tprice:- 2\n",
      "------------------BURGER KING-------------------\n",
      "\n",
      "       BURGER NAME           :- ss                                                \n",
      "       PRICE                 :- 22                                                \n",
      "       TOPPINGS              :- sss                                               \n",
      "       T_PRICE               :- 2                                                 \n",
      "       TOTAL                 :- 24                                                \n",
      "       GST 18%               :- 4.32                                              \n",
      "                               _______\n",
      "       TOTAL BILL            :- 28.32               \n",
      "\n",
      "-------------------THANK YOU--------------------\n"
     ]
    }
   ],
   "source": [
    "bname = input(\"Enter Burger Name:- \")\n",
    "bprice = int(input(\"Enter Price:- \"))\n",
    "btoppings = input(\"Enter toppings:- \")\n",
    "top_price = int(input(\"Enter tprice:- \"))\n",
    "tot = bprice + top_price\n",
    "gst = (18*tot) / 100\n",
    "t_bill = gst + tot\n",
    "print(\"------------------BURGER KING-------------------\")\n",
    "print()\n",
    "print(\"BURGER NAME\".center(25)+\"    :- \"+str(bname.ljust(50)))\n",
    "print(\"PRICE\".center(20)+\"         :- \"+ str(bprice).ljust(50))  \n",
    "print(\"TOPPINGS\".center(22)+\"       :- \"+str(btoppings.ljust(50)))\n",
    "print(\"T_PRICE\".center(22)+\"       :- \"+str(top_price).ljust(50))\n",
    "print(\"TOTAL\".center(20)+\"         :- \"+ str(tot).ljust(50))\n",
    "print(\"GST 18%\".center(22)+\"       :- \"+ str(gst).ljust(50))\n",
    "print(\"_______\".rjust(38))\n",
    "print(\"TOTAL BILL\".center(24)+\"     :- \"+ str(t_bill).ljust(20))\n",
    "print()\n",
    "print(\"-------------------THANK YOU--------------------\")"
   ]
  },
  {
   "cell_type": "code",
   "execution_count": 3,
   "id": "8f0628c9",
   "metadata": {},
   "outputs": [
    {
     "name": "stdout",
     "output_type": "stream",
     "text": [
      "ENTER THE VALUE:- 2\n",
      "ENTER THE VALUE:- 2\n",
      "--------------------------------------------------------\n",
      "|                      2 + 2 = 4                       |\n",
      "|                      2 - 2 = 0                       |\n",
      "|                      2 * 2 = 4                       |\n",
      "|                     2 / 2 = 1.0                      |\n",
      "|                      2 % 2 = 0                       |\n",
      "--------------------------------------------------------\n",
      "Do you want to continue? yes for continue or type any other key to stop:- n\n"
     ]
    }
   ],
   "source": [
    "start = 'yes'\n",
    "while start.lower() == 'yes':\n",
    "    a = int(input(\"ENTER THE VALUE:- \"))\n",
    "    b = int(input(\"ENTER THE VALUE:- \"))\n",
    "    print(\"--------------------------------------------------------\")\n",
    "    print(\"|\"+ str(str(a)+\" + \"+str(b)+\" = \"+str(a + b)).center(54)+\"|\")\n",
    "    print(\"|\"+ str(str(a)+\" - \"+str(b)+\" = \"+str(a - b)).center(54)+\"|\")\n",
    "    print(\"|\"+ str(str(a)+\" * \"+str(b)+\" = \"+str(a * b)).center(54)+\"|\")\n",
    "    print(\"|\"+ str(str(a)+\" / \"+str(b)+\" = \"+str(a / b)).center(54)+\"|\")\n",
    "    print(\"|\"+ str(str(a)+\" % \"+str(b)+\" = \"+str(a % b)).center(54)+\"|\")\n",
    "    print(\"--------------------------------------------------------\")\n",
    "    start = input(\"Do you want to continue? yes for continue or type any other key to stop:- \")"
   ]
  },
  {
   "cell_type": "code",
   "execution_count": 4,
   "id": "a8f233d4",
   "metadata": {},
   "outputs": [
    {
     "name": "stdout",
     "output_type": "stream",
     "text": [
      "10\n",
      "9\n",
      "8\n",
      "7\n",
      "6\n",
      "5\n",
      "4\n"
     ]
    }
   ],
   "source": [
    "a = 10\n",
    "while a > 0:\n",
    "    print(a)\n",
    "    if a < 5 and a > 2:\n",
    "        break\n",
    "    a -= 1"
   ]
  },
  {
   "cell_type": "code",
   "execution_count": 5,
   "id": "8441f5e1",
   "metadata": {},
   "outputs": [
    {
     "name": "stdout",
     "output_type": "stream",
     "text": [
      "10\n",
      "9\n",
      "8\n",
      "7\n",
      "6\n",
      "1\n"
     ]
    }
   ],
   "source": [
    "a = 10\n",
    "while a > 0:\n",
    "    if a <= 5 and a >= 2:\n",
    "        a -= 1\n",
    "        continue\n",
    "    print(a)\n",
    "    a -= 1\n"
   ]
  },
  {
   "cell_type": "code",
   "execution_count": 6,
   "id": "72b5b9ce",
   "metadata": {},
   "outputs": [
    {
     "name": "stdout",
     "output_type": "stream",
     "text": [
      "1\n",
      "6\n",
      "7\n",
      "8\n",
      "9\n"
     ]
    }
   ],
   "source": [
    "for i in range(1,10):\n",
    "    if i <= 5 and i >= 2:\n",
    "        continue\n",
    "    print(i)\n"
   ]
  },
  {
   "cell_type": "code",
   "execution_count": 7,
   "id": "810dca54",
   "metadata": {},
   "outputs": [
    {
     "name": "stdout",
     "output_type": "stream",
     "text": [
      "1\n"
     ]
    }
   ],
   "source": [
    "for i in range(1,10):\n",
    "    if i <= 5 and i >= 2:\n",
    "        break\n",
    "    print(i)\n"
   ]
  },
  {
   "cell_type": "code",
   "execution_count": 8,
   "id": "8fd60790",
   "metadata": {},
   "outputs": [
    {
     "name": "stdout",
     "output_type": "stream",
     "text": [
      "ENTER THE VALUE:- 2\n",
      "ENTER THE VALUE:- 2\n",
      "--------------------------------------------------------\n",
      "|                      2 + 2 = 4                       |\n",
      "|                      2 - 2 = 0                       |\n",
      "|                      2 * 2 = 4                       |\n",
      "|                     2 / 2 = 1.0                      |\n",
      "|                      2 % 2 = 0                       |\n",
      "--------------------------------------------------------\n",
      "Do you want to continue? yes for continue or type any other key to stop:- n\n"
     ]
    }
   ],
   "source": [
    "while True:\n",
    "    a = int(input(\"ENTER THE VALUE:- \"))\n",
    "    b = int(input(\"ENTER THE VALUE:- \"))\n",
    "    print(\"--------------------------------------------------------\")\n",
    "    print(\"|\"+ str(str(a)+\" + \"+str(b)+\" = \"+str(a + b)).center(54)+\"|\")\n",
    "    print(\"|\"+ str(str(a)+\" - \"+str(b)+\" = \"+str(a - b)).center(54)+\"|\")\n",
    "    print(\"|\"+ str(str(a)+\" * \"+str(b)+\" = \"+str(a * b)).center(54)+\"|\")\n",
    "    print(\"|\"+ str(str(a)+\" / \"+str(b)+\" = \"+str(a / b)).center(54)+\"|\")\n",
    "    print(\"|\"+ str(str(a)+\" % \"+str(b)+\" = \"+str(a % b)).center(54)+\"|\")\n",
    "    print(\"--------------------------------------------------------\")\n",
    "    start = input(\"Do you want to continue? yes for continue or type any other key to stop:- \")\n",
    "    if start.lower() != 'yes':\n",
    "        break"
   ]
  },
  {
   "cell_type": "code",
   "execution_count": 9,
   "id": "6fc815b2",
   "metadata": {},
   "outputs": [
    {
     "name": "stdout",
     "output_type": "stream",
     "text": [
      "ENTER THE VALUE:- 2\n",
      "ENTER THE VALUE:- 2\n",
      "--------------------------------------------------------\n",
      "|                      2 + 2 = 4                       |\n",
      "|                      2 - 2 = 0                       |\n",
      "|                      2 * 2 = 4                       |\n",
      "|                     2 / 2 = 1.0                      |\n",
      "|                      2 % 2 = 0                       |\n",
      "--------------------------------------------------------\n",
      "Do you want to continue? yes for continue or type any other key to stop:- 2\n"
     ]
    }
   ],
   "source": [
    "for i in range(10):\n",
    "    a = int(input(\"ENTER THE VALUE:- \"))\n",
    "    b = int(input(\"ENTER THE VALUE:- \"))\n",
    "    print(\"--------------------------------------------------------\")\n",
    "    print(\"|\"+ str(str(a)+\" + \"+str(b)+\" = \"+str(a + b)).center(54)+\"|\")\n",
    "    print(\"|\"+ str(str(a)+\" - \"+str(b)+\" = \"+str(a - b)).center(54)+\"|\")\n",
    "    print(\"|\"+ str(str(a)+\" * \"+str(b)+\" = \"+str(a * b)).center(54)+\"|\")\n",
    "    print(\"|\"+ str(str(a)+\" / \"+str(b)+\" = \"+str(a / b)).center(54)+\"|\")\n",
    "    print(\"|\"+ str(str(a)+\" % \"+str(b)+\" = \"+str(a % b)).center(54)+\"|\")\n",
    "    print(\"--------------------------------------------------------\")\n",
    "    start = input(\"Do you want to continue? yes for continue or type any other key to stop:- \")\n",
    "    if start.lower() != 'yes':\n",
    "        break"
   ]
  },
  {
   "cell_type": "code",
   "execution_count": 10,
   "id": "f0f0621a",
   "metadata": {},
   "outputs": [
    {
     "name": "stdout",
     "output_type": "stream",
     "text": [
      "ROLL THE DICE:- 2\n",
      "YOU GOT ANOTHER CHANCE......\n",
      "ROLL THE DICE:- 2\n",
      "YOU GOT ANOTHER CHANCE......\n",
      "ROLL THE DICE:- 2\n",
      "YOU GOT ANOTHER CHANCE......\n",
      "ROLL THE DICE:- 2\n",
      "YOU GOT ANOTHER CHANCE......\n",
      "ROLL THE DICE:- 23\n",
      "YOU GOT ANOTHER CHANCE......\n",
      " **** YOU LOOSE THE GAME **** \n"
     ]
    }
   ],
   "source": [
    "guess = 5\n",
    "chance = 0\n",
    "while True:\n",
    "    chance+=1\n",
    "    g = int(input(\"ROLL THE DICE:- \"))\n",
    "    print(\"YOU GOT ANOTHER CHANCE......\")\n",
    "    if g == guess:\n",
    "        print(\" **** YOU WIN THE GAME **** \")\n",
    "        break\n",
    "    if chance == 5:\n",
    "        print(\" **** YOU LOOSE THE GAME **** \")\n",
    "        break"
   ]
  },
  {
   "cell_type": "code",
   "execution_count": 67,
   "id": "dd18ab8e",
   "metadata": {},
   "outputs": [
    {
     "name": "stdout",
     "output_type": "stream",
     "text": [
      "0|0|0\n",
      "0|0|0\n",
      "0|0|0\n",
      "0\n",
      "1\n",
      "TURN  1\n"
     ]
    },
    {
     "ename": "KeyboardInterrupt",
     "evalue": "Interrupted by user",
     "output_type": "error",
     "traceback": [
      "\u001b[1;31m---------------------------------------------------------------------------\u001b[0m",
      "\u001b[1;31mKeyboardInterrupt\u001b[0m                         Traceback (most recent call last)",
      "\u001b[1;32m<ipython-input-67-9eb62db5c4f0>\u001b[0m in \u001b[0;36m<module>\u001b[1;34m\u001b[0m\n\u001b[0;32m     11\u001b[0m \u001b[1;32mfor\u001b[0m \u001b[0mturn\u001b[0m \u001b[1;32min\u001b[0m \u001b[0mrange\u001b[0m\u001b[1;33m(\u001b[0m\u001b[1;36m3\u001b[0m\u001b[1;33m)\u001b[0m\u001b[1;33m:\u001b[0m\u001b[1;33m\u001b[0m\u001b[1;33m\u001b[0m\u001b[0m\n\u001b[0;32m     12\u001b[0m         \u001b[0mprint\u001b[0m\u001b[1;33m(\u001b[0m\u001b[1;34m\"TURN \"\u001b[0m\u001b[1;33m,\u001b[0m \u001b[0mturn\u001b[0m\u001b[1;33m+\u001b[0m\u001b[1;36m1\u001b[0m\u001b[1;33m)\u001b[0m\u001b[1;33m\u001b[0m\u001b[1;33m\u001b[0m\u001b[0m\n\u001b[1;32m---> 13\u001b[1;33m         \u001b[0mguess_row\u001b[0m \u001b[1;33m=\u001b[0m \u001b[0mint\u001b[0m\u001b[1;33m(\u001b[0m\u001b[0minput\u001b[0m\u001b[1;33m(\u001b[0m\u001b[1;34m\"Guess Row 1-3: \"\u001b[0m\u001b[1;33m)\u001b[0m\u001b[1;33m)\u001b[0m\u001b[1;33m\u001b[0m\u001b[1;33m\u001b[0m\u001b[0m\n\u001b[0m\u001b[0;32m     14\u001b[0m         \u001b[0mguess_col\u001b[0m \u001b[1;33m=\u001b[0m \u001b[0mint\u001b[0m\u001b[1;33m(\u001b[0m\u001b[0minput\u001b[0m\u001b[1;33m(\u001b[0m\u001b[1;34m\"Guess Col 1-3: \"\u001b[0m\u001b[1;33m)\u001b[0m\u001b[1;33m)\u001b[0m\u001b[1;33m\u001b[0m\u001b[1;33m\u001b[0m\u001b[0m\n\u001b[0;32m     15\u001b[0m \u001b[1;33m\u001b[0m\u001b[0m\n",
      "\u001b[1;32mD:\\Anaconda\\lib\\site-packages\\ipykernel\\kernelbase.py\u001b[0m in \u001b[0;36mraw_input\u001b[1;34m(self, prompt)\u001b[0m\n\u001b[0;32m    858\u001b[0m                 \u001b[1;34m\"raw_input was called, but this frontend does not support input requests.\"\u001b[0m\u001b[1;33m\u001b[0m\u001b[1;33m\u001b[0m\u001b[0m\n\u001b[0;32m    859\u001b[0m             )\n\u001b[1;32m--> 860\u001b[1;33m         return self._input_request(str(prompt),\n\u001b[0m\u001b[0;32m    861\u001b[0m             \u001b[0mself\u001b[0m\u001b[1;33m.\u001b[0m\u001b[0m_parent_ident\u001b[0m\u001b[1;33m,\u001b[0m\u001b[1;33m\u001b[0m\u001b[1;33m\u001b[0m\u001b[0m\n\u001b[0;32m    862\u001b[0m             \u001b[0mself\u001b[0m\u001b[1;33m.\u001b[0m\u001b[0m_parent_header\u001b[0m\u001b[1;33m,\u001b[0m\u001b[1;33m\u001b[0m\u001b[1;33m\u001b[0m\u001b[0m\n",
      "\u001b[1;32mD:\\Anaconda\\lib\\site-packages\\ipykernel\\kernelbase.py\u001b[0m in \u001b[0;36m_input_request\u001b[1;34m(self, prompt, ident, parent, password)\u001b[0m\n\u001b[0;32m    902\u001b[0m             \u001b[1;32mexcept\u001b[0m \u001b[0mKeyboardInterrupt\u001b[0m\u001b[1;33m:\u001b[0m\u001b[1;33m\u001b[0m\u001b[1;33m\u001b[0m\u001b[0m\n\u001b[0;32m    903\u001b[0m                 \u001b[1;31m# re-raise KeyboardInterrupt, to truncate traceback\u001b[0m\u001b[1;33m\u001b[0m\u001b[1;33m\u001b[0m\u001b[1;33m\u001b[0m\u001b[0m\n\u001b[1;32m--> 904\u001b[1;33m                 \u001b[1;32mraise\u001b[0m \u001b[0mKeyboardInterrupt\u001b[0m\u001b[1;33m(\u001b[0m\u001b[1;34m\"Interrupted by user\"\u001b[0m\u001b[1;33m)\u001b[0m \u001b[1;32mfrom\u001b[0m \u001b[1;32mNone\u001b[0m\u001b[1;33m\u001b[0m\u001b[1;33m\u001b[0m\u001b[0m\n\u001b[0m\u001b[0;32m    905\u001b[0m             \u001b[1;32mexcept\u001b[0m \u001b[0mException\u001b[0m \u001b[1;32mas\u001b[0m \u001b[0me\u001b[0m\u001b[1;33m:\u001b[0m\u001b[1;33m\u001b[0m\u001b[1;33m\u001b[0m\u001b[0m\n\u001b[0;32m    906\u001b[0m                 \u001b[0mself\u001b[0m\u001b[1;33m.\u001b[0m\u001b[0mlog\u001b[0m\u001b[1;33m.\u001b[0m\u001b[0mwarning\u001b[0m\u001b[1;33m(\u001b[0m\u001b[1;34m\"Invalid Message:\"\u001b[0m\u001b[1;33m,\u001b[0m \u001b[0mexc_info\u001b[0m\u001b[1;33m=\u001b[0m\u001b[1;32mTrue\u001b[0m\u001b[1;33m)\u001b[0m\u001b[1;33m\u001b[0m\u001b[1;33m\u001b[0m\u001b[0m\n",
      "\u001b[1;31mKeyboardInterrupt\u001b[0m: Interrupted by user"
     ]
    }
   ],
   "source": [
    "from random import randint\n",
    "board = []\n",
    "for x in range(0,3):                                       \n",
    "    board.append([\"0\"]*3)\n",
    "for row in board:\n",
    "    print(\"|\".join(row))\n",
    "ship_row = randint(0, 3)\n",
    "ship_col = randint(0, 3)\n",
    "print(ship_row)\n",
    "print(ship_col)\n",
    "for turn in range(3):\n",
    "        print(\"TURN \", turn+1)\n",
    "        guess_row = int(input(\"Guess Row 1-3: \"))\n",
    "        guess_col = int(input(\"Guess Col 1-3: \"))\n",
    "        \n",
    "        if guess_row == ship_row and guess_col == ship_col:\n",
    "            print (\"Congo!!!!!! You sank my battleship!\")\n",
    "            board[guess_row-1][guess_col-1] = 'X'\n",
    "            break\n",
    "        elif board[guess_row][guess_col] == \"X\":\n",
    "            print( \"You guessed that one already.\" )    \n",
    "        else:\n",
    "            board[guess_row-1][guess_col-1] = 'X'\n",
    "            print (\"You missed my battleship!\")\n",
    "            for row in board:\n",
    "                print(\" \".join(row))"
   ]
  },
  {
   "cell_type": "code",
   "execution_count": 2,
   "id": "40712074",
   "metadata": {},
   "outputs": [
    {
     "name": "stdout",
     "output_type": "stream",
     "text": [
      "------------------\n",
      "|NAME:- Abhi shek|\n",
      "------------------\n"
     ]
    }
   ],
   "source": [
    "def custom(name=\"\",address=\"\",course=\"\",fees=\"\",**op):\n",
    "    start = end = '-'\n",
    "    left = right = '|'\n",
    "    if(op.get('start')):\n",
    "        start = opt.get('start')\n",
    "    if(op.get('end')):\n",
    "        end = opt.get('end')\n",
    "    if(op.get('right')):\n",
    "        right = opt.get('right')\n",
    "    if(op.get('left')):\n",
    "        left = opt.get('left')\n",
    "    print(start * (len(name)+2))\n",
    "    print(left+name.center(len(name))+right)\n",
    "    print(end * (len(name)+2))\n",
    "    \n",
    "custom(\"NAME:- Abhi shek\")"
   ]
  },
  {
   "cell_type": "code",
   "execution_count": 3,
   "id": "b4383d61",
   "metadata": {},
   "outputs": [
    {
     "name": "stdout",
     "output_type": "stream",
     "text": [
      "+---------+-----------+\n",
      "|   NAME  |  ABHISHEK |\n",
      "+---------+-----------+\n",
      "+---------+-----------+\n",
      "| ADDRESS |   SURAT   |\n",
      "+---------+-----------+\n",
      "+---------+-----------+\n",
      "|  COURSE |   PYTHON  |\n",
      "+---------+-----------+\n",
      "+---------+-----------+\n",
      "|   FEES  |    2000   |\n",
      "+---------+-----------+\n"
     ]
    }
   ],
   "source": [
    "def custom(name=\"\",address=\"\",course=\"\",fees=\"\",**op):\n",
    "    start = end = '-'\n",
    "    left = right = middle = '|'\n",
    "    corners = '+'\n",
    "    if(op.get('start')):\n",
    "        start = op.get('start')\n",
    "    if(op.get('end')):\n",
    "        end = op.get('end')\n",
    "    if(op.get('right')):\n",
    "        right = op.get('right')\n",
    "    if(op.get('left')):\n",
    "        left = op.get('left')\n",
    "    if(op.get('middle')):\n",
    "        middle = op.get('middle')\n",
    "    if(op.get('corners')):\n",
    "        corners = op.get('corners')\n",
    "    title = [\"NAME\",\"ADDRESS\",\"COURSE\",\"FEES\"]\n",
    "    print(corners + start*(len(title[0])+5)+corners + start *(len(name)+3)+corners)\n",
    "    print(left + title[0].center(len(title[0])+5)+middle + name.center(len(name)+3)+right)\n",
    "    print(corners + end*(len(title[0])+5)+corners + end *(len(name)+3)+corners)\n",
    "    \n",
    "    print(corners + start*(len(title[1])+2)+corners + start *(len(address)+6)+corners)\n",
    "    print(left + title[1].center(len(title[1])+2)+middle + address.center(len(address)+6)+right)\n",
    "    print(corners + end*(len(title[1])+2)+corners + end *(len(address)+6)+corners)\n",
    "    \n",
    "    print(corners + start*(len(title[2])+3)+corners + start *(len(course)+5)+corners)\n",
    "    print(left + title[2].center(len(title[2])+3)+middle + course.center(len(course)+5)+right)\n",
    "    print(corners + end*(len(title[2])+3)+corners + end *(len(course)+5)+corners)\n",
    "    \n",
    "    print(corners + start*(len(title[3])+5)+corners + start *(len(fees)+7)+corners)\n",
    "    print(left + title[3].center(len(title[3])+5)+middle + fees.center(len(fees)+7)+right)\n",
    "    print(corners + end*(len(title[3])+5)+corners + end *(len(fees)+7)+corners)\n",
    "    \n",
    "custom(\"ABHISHEK\",\"SURAT\",\"PYTHON\",\"2000\")\n",
    "    "
   ]
  },
  {
   "cell_type": "code",
   "execution_count": null,
   "id": "9e755482",
   "metadata": {},
   "outputs": [],
   "source": []
  }
 ],
 "metadata": {
  "kernelspec": {
   "display_name": "Python 3",
   "language": "python",
   "name": "python3"
  },
  "language_info": {
   "codemirror_mode": {
    "name": "ipython",
    "version": 3
   },
   "file_extension": ".py",
   "mimetype": "text/x-python",
   "name": "python",
   "nbconvert_exporter": "python",
   "pygments_lexer": "ipython3",
   "version": "3.8.8"
  }
 },
 "nbformat": 4,
 "nbformat_minor": 5
}
