{
 "cells": [
  {
   "cell_type": "markdown",
   "id": "0adbcaa3",
   "metadata": {},
   "source": [
    "# Tic-Tac-Toe"
   ]
  },
  {
   "cell_type": "code",
   "execution_count": null,
   "id": "d21ae226",
   "metadata": {},
   "outputs": [
    {
     "name": "stdout",
     "output_type": "stream",
     "text": [
      "**********WELCOME TO TIC-TAC-TOE***************\n",
      "Your Game board will be like this:- \n",
      "0|3|6\n",
      "1|4|7\n",
      "2|5|8\n"
     ]
    }
   ],
   "source": [
    "print(\"**********WELCOME TO TIC-TAC-TOE***************\")               \n",
    "print(\"Your Game board will be like this:- \")\n",
    "print(\"0|3|6\")\n",
    "print(\"1|4|7\")\n",
    "print(\"2|5|8\") \n",
    "board = [\"-\"]*9                                                                        # print structure of board\n",
    "for i in range(9):\n",
    "    n = int(input(\"ENTER NUMBER BETWEEN 0 to 8 :-  \"))\n",
    "    if i % 2 == 0:                                                                     # changes turn to X and O\n",
    "        turn =\"X\"\n",
    "    else:\n",
    "        turn =\"O\"\n",
    "    board[n] = turn\n",
    "    for i in range(0,3):                                                               # Checking X wins or O        \n",
    "        print((\"|\").join(board[i:9:3])) \n",
    "    if board[0:3].count('X') == 3  or board[0:3].count('O') == 3  :  \n",
    "        print(\"Hurray wins\")\n",
    "        break\n",
    "    elif board[3:6].count('X') == 3 or board[3:6].count('O') == 3: \n",
    "        print(\"Hurray wins\")\n",
    "        break\n",
    "    elif board[6:9].count('X') == 3 or board[6:9].count('O') == 3:\n",
    "        print(\"Hurray wins\")\n",
    "        break\n",
    "    elif board[0:9:3].count('X') == 3 or board[0:9:3].count('O') == 3:\n",
    "        print(\"Hurray wins\")\n",
    "        break\n",
    "    elif board[1:9:3].count('X') == 3 or board[1:9:3].count('O') == 3:\n",
    "        print(\"Hurray wins\")\n",
    "        break\n",
    "    elif board[2:9:3].count('X') == 3 or board[2:9:3].count('O') == 3:\n",
    "        print(\"Hurray wins\")\n",
    "        break\n",
    "    elif board[0:9:4].count('X') == 3 or board[0:9:4].count('O') == 3:\n",
    "        print(\"Hurray wins\")\n",
    "        break\n",
    "    elif board[2:9:2].count('X') == 3 or board[2:9:2].count('O') == 3:\n",
    "        print(\"Hurray wins\")\n",
    "        break\n",
    "    elif board[0:9].count('-') == 0: \n",
    "        print(\"Tie\")\n",
    "        break  "
   ]
  },
  {
   "cell_type": "markdown",
   "id": "bac8dddb",
   "metadata": {},
   "source": [
    "# Battleship"
   ]
  },
  {
   "cell_type": "code",
   "execution_count": null,
   "id": "3aefc5ab",
   "metadata": {},
   "outputs": [],
   "source": [
    "from random import randint\n",
    "board = []\n",
    "for x in range(0,3):                                       \n",
    "    board.append([\"0\"]*3)\n",
    "for row in board:\n",
    "    print(\"|\".join(row))\n",
    "ship_row = randint(0, 3)\n",
    "ship_col = randint(0, 3)\n",
    "print(ship_row)\n",
    "print(ship_col)\n",
    "for turn in range(3):\n",
    "        print(\"TURN \", turn+1)\n",
    "        guess_row = int(input(\"Guess Row 1-3: \"))\n",
    "        guess_col = int(input(\"Guess Col 1-3: \"))\n",
    "        \n",
    "        if guess_row == ship_row and guess_col == ship_col:\n",
    "            print (\"Congo!!!!!! You sank my battleship!\")\n",
    "            board[guess_row-1][guess_col-1] = 'X'\n",
    "            break\n",
    "        elif board[guess_row][guess_col] == \"X\":\n",
    "            print( \"You guessed that one already.\" )    \n",
    "        else:\n",
    "            board[guess_row-1][guess_col-1] = 'X'\n",
    "            print (\"You missed my battleship!\")\n",
    "            for row in board:\n",
    "                print(\" \".join(row))"
   ]
  }
 ],
 "metadata": {
  "kernelspec": {
   "display_name": "Python 3",
   "language": "python",
   "name": "python3"
  },
  "language_info": {
   "codemirror_mode": {
    "name": "ipython",
    "version": 3
   },
   "file_extension": ".py",
   "mimetype": "text/x-python",
   "name": "python",
   "nbconvert_exporter": "python",
   "pygments_lexer": "ipython3",
   "version": "3.8.8"
  }
 },
 "nbformat": 4,
 "nbformat_minor": 5
}
