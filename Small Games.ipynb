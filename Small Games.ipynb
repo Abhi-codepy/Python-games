{
 "cells": [
  {
   "cell_type": "markdown",
   "id": "b5c08e68",
   "metadata": {},
   "source": [
    "# Tic-Tac-Toe"
   ]
  },
  {
   "cell_type": "code",
   "execution_count": null,
   "id": "23c6f337",
   "metadata": {},
   "outputs": [
    {
     "name": "stdout",
     "output_type": "stream",
     "text": [
      "**********WELCOME TO TIC-TAC-TOE***************\n",
      "Your Game board will be like this:- \n",
      "0|3|6\n",
      "1|4|7\n",
      "2|5|8\n"
     ]
    }
   ],
   "source": [
    "print(\"**********WELCOME TO TIC-TAC-TOE***************\")               \n",
    "print(\"Your Game board will be like this:- \")\n",
    "print(\"0|3|6\")\n",
    "print(\"1|4|7\")\n",
    "print(\"2|5|8\") \n",
    "board = [\"-\"]*9                                                                        # print structure of board\n",
    "for i in range(9):\n",
    "    n = int(input(\"ENTER NUMBER BETWEEN 0 to 8 :-  \"))\n",
    "    if i % 2 == 0:                                                                     # changes turn to X and O\n",
    "        turn =\"X\"\n",
    "    else:\n",
    "        turn =\"O\"\n",
    "    board[n] = turn\n",
    "    for i in range(0,3):                                                               # Checking X wins or O        \n",
    "        print((\"|\").join(board[i:9:3])) \n",
    "    if board[0:3].count('X') == 3  or board[0:3].count('O') == 3  :  \n",
    "        print(\"Hurray wins\")\n",
    "        break\n",
    "    elif board[3:6].count('X') == 3 or board[3:6].count('O') == 3: \n",
    "        print(\"Hurray wins\")\n",
    "        break\n",
    "    elif board[6:9].count('X') == 3 or board[6:9].count('O') == 3:\n",
    "        print(\"Hurray wins\")\n",
    "        break\n",
    "    elif board[0:9:3].count('X') == 3 or board[0:9:3].count('O') == 3:\n",
    "        print(\"Hurray wins\")\n",
    "        break\n",
    "    elif board[1:9:3].count('X') == 3 or board[1:9:3].count('O') == 3:\n",
    "        print(\"Hurray wins\")\n",
    "        break\n",
    "    elif board[2:9:3].count('X') == 3 or board[2:9:3].count('O') == 3:\n",
    "        print(\"Hurray wins\")\n",
    "        break\n",
    "    elif board[0:9:4].count('X') == 3 or board[0:9:4].count('O') == 3:\n",
    "        print(\"Hurray wins\")\n",
    "        break\n",
    "    elif board[2:9:2].count('X') == 3 or board[2:9:2].count('O') == 3:\n",
    "        print(\"Hurray wins\")\n",
    "        break\n",
    "    elif board[0:9].count('-') == 0: \n",
    "        print(\"Tie\")\n",
    "        break  "
   ]
  },
  {
   "cell_type": "code",
   "execution_count": null,
   "id": "afd407dd",
   "metadata": {},
   "outputs": [],
   "source": []
  }
 ],
 "metadata": {
  "kernelspec": {
   "display_name": "Python 3",
   "language": "python",
   "name": "python3"
  },
  "language_info": {
   "codemirror_mode": {
    "name": "ipython",
    "version": 3
   },
   "file_extension": ".py",
   "mimetype": "text/x-python",
   "name": "python",
   "nbconvert_exporter": "python",
   "pygments_lexer": "ipython3",
   "version": "3.8.8"
  }
 },
 "nbformat": 4,
 "nbformat_minor": 5
}
