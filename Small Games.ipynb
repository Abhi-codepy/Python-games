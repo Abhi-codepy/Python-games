{
 "cells": [
  {
   "cell_type": "markdown",
   "id": "0adbcaa3",
   "metadata": {},
   "source": [
    "# Tic-Tac-Toe"
   ]
  },
  {
   "cell_type": "code",
   "execution_count": 1,
   "id": "d21ae226",
   "metadata": {},
   "outputs": [
    {
     "name": "stdout",
     "output_type": "stream",
     "text": [
      "**********WELCOME TO TIC-TAC-TOE***************\n",
      "Your Game board will be like this:- \n",
      "0|3|6\n",
      "1|4|7\n",
      "2|5|8\n"
     ]
    },
    {
     "ename": "KeyboardInterrupt",
     "evalue": "Interrupted by user",
     "output_type": "error",
     "traceback": [
      "\u001b[1;31m---------------------------------------------------------------------------\u001b[0m",
      "\u001b[1;31mKeyboardInterrupt\u001b[0m                         Traceback (most recent call last)",
      "\u001b[1;32m<ipython-input-1-b6930ce0f17b>\u001b[0m in \u001b[0;36m<module>\u001b[1;34m\u001b[0m\n\u001b[0;32m      6\u001b[0m \u001b[0mboard\u001b[0m \u001b[1;33m=\u001b[0m \u001b[1;33m[\u001b[0m\u001b[1;34m\"-\"\u001b[0m\u001b[1;33m]\u001b[0m\u001b[1;33m*\u001b[0m\u001b[1;36m9\u001b[0m                                                                        \u001b[1;31m# print structure of board\u001b[0m\u001b[1;33m\u001b[0m\u001b[1;33m\u001b[0m\u001b[0m\n\u001b[0;32m      7\u001b[0m \u001b[1;32mfor\u001b[0m \u001b[0mi\u001b[0m \u001b[1;32min\u001b[0m \u001b[0mrange\u001b[0m\u001b[1;33m(\u001b[0m\u001b[1;36m9\u001b[0m\u001b[1;33m)\u001b[0m\u001b[1;33m:\u001b[0m\u001b[1;33m\u001b[0m\u001b[1;33m\u001b[0m\u001b[0m\n\u001b[1;32m----> 8\u001b[1;33m     \u001b[0mn\u001b[0m \u001b[1;33m=\u001b[0m \u001b[0mint\u001b[0m\u001b[1;33m(\u001b[0m\u001b[0minput\u001b[0m\u001b[1;33m(\u001b[0m\u001b[1;34m\"ENTER NUMBER BETWEEN 0 to 8 :-  \"\u001b[0m\u001b[1;33m)\u001b[0m\u001b[1;33m)\u001b[0m\u001b[1;33m\u001b[0m\u001b[1;33m\u001b[0m\u001b[0m\n\u001b[0m\u001b[0;32m      9\u001b[0m     \u001b[1;32mif\u001b[0m \u001b[0mi\u001b[0m \u001b[1;33m%\u001b[0m \u001b[1;36m2\u001b[0m \u001b[1;33m==\u001b[0m \u001b[1;36m0\u001b[0m\u001b[1;33m:\u001b[0m                                                                     \u001b[1;31m# changes turn to X and O\u001b[0m\u001b[1;33m\u001b[0m\u001b[1;33m\u001b[0m\u001b[0m\n\u001b[0;32m     10\u001b[0m         \u001b[0mturn\u001b[0m \u001b[1;33m=\u001b[0m\u001b[1;34m\"X\"\u001b[0m\u001b[1;33m\u001b[0m\u001b[1;33m\u001b[0m\u001b[0m\n",
      "\u001b[1;32mD:\\Anaconda\\lib\\site-packages\\ipykernel\\kernelbase.py\u001b[0m in \u001b[0;36mraw_input\u001b[1;34m(self, prompt)\u001b[0m\n\u001b[0;32m    858\u001b[0m                 \u001b[1;34m\"raw_input was called, but this frontend does not support input requests.\"\u001b[0m\u001b[1;33m\u001b[0m\u001b[1;33m\u001b[0m\u001b[0m\n\u001b[0;32m    859\u001b[0m             )\n\u001b[1;32m--> 860\u001b[1;33m         return self._input_request(str(prompt),\n\u001b[0m\u001b[0;32m    861\u001b[0m             \u001b[0mself\u001b[0m\u001b[1;33m.\u001b[0m\u001b[0m_parent_ident\u001b[0m\u001b[1;33m,\u001b[0m\u001b[1;33m\u001b[0m\u001b[1;33m\u001b[0m\u001b[0m\n\u001b[0;32m    862\u001b[0m             \u001b[0mself\u001b[0m\u001b[1;33m.\u001b[0m\u001b[0m_parent_header\u001b[0m\u001b[1;33m,\u001b[0m\u001b[1;33m\u001b[0m\u001b[1;33m\u001b[0m\u001b[0m\n",
      "\u001b[1;32mD:\\Anaconda\\lib\\site-packages\\ipykernel\\kernelbase.py\u001b[0m in \u001b[0;36m_input_request\u001b[1;34m(self, prompt, ident, parent, password)\u001b[0m\n\u001b[0;32m    902\u001b[0m             \u001b[1;32mexcept\u001b[0m \u001b[0mKeyboardInterrupt\u001b[0m\u001b[1;33m:\u001b[0m\u001b[1;33m\u001b[0m\u001b[1;33m\u001b[0m\u001b[0m\n\u001b[0;32m    903\u001b[0m                 \u001b[1;31m# re-raise KeyboardInterrupt, to truncate traceback\u001b[0m\u001b[1;33m\u001b[0m\u001b[1;33m\u001b[0m\u001b[1;33m\u001b[0m\u001b[0m\n\u001b[1;32m--> 904\u001b[1;33m                 \u001b[1;32mraise\u001b[0m \u001b[0mKeyboardInterrupt\u001b[0m\u001b[1;33m(\u001b[0m\u001b[1;34m\"Interrupted by user\"\u001b[0m\u001b[1;33m)\u001b[0m \u001b[1;32mfrom\u001b[0m \u001b[1;32mNone\u001b[0m\u001b[1;33m\u001b[0m\u001b[1;33m\u001b[0m\u001b[0m\n\u001b[0m\u001b[0;32m    905\u001b[0m             \u001b[1;32mexcept\u001b[0m \u001b[0mException\u001b[0m \u001b[1;32mas\u001b[0m \u001b[0me\u001b[0m\u001b[1;33m:\u001b[0m\u001b[1;33m\u001b[0m\u001b[1;33m\u001b[0m\u001b[0m\n\u001b[0;32m    906\u001b[0m                 \u001b[0mself\u001b[0m\u001b[1;33m.\u001b[0m\u001b[0mlog\u001b[0m\u001b[1;33m.\u001b[0m\u001b[0mwarning\u001b[0m\u001b[1;33m(\u001b[0m\u001b[1;34m\"Invalid Message:\"\u001b[0m\u001b[1;33m,\u001b[0m \u001b[0mexc_info\u001b[0m\u001b[1;33m=\u001b[0m\u001b[1;32mTrue\u001b[0m\u001b[1;33m)\u001b[0m\u001b[1;33m\u001b[0m\u001b[1;33m\u001b[0m\u001b[0m\n",
      "\u001b[1;31mKeyboardInterrupt\u001b[0m: Interrupted by user"
     ]
    }
   ],
   "source": [
    "print(\"**********WELCOME TO TIC-TAC-TOE***************\")               \n",
    "print(\"Your Game board will be like this:- \")\n",
    "print(\"0|3|6\")\n",
    "print(\"1|4|7\")\n",
    "print(\"2|5|8\") \n",
    "board = [\"-\"]*9                                                                        # print structure of board\n",
    "for i in range(9):\n",
    "    n = int(input(\"ENTER NUMBER BETWEEN 0 to 8 :-  \"))\n",
    "    if i % 2 == 0:                                                                     # changes turn to X and O\n",
    "        turn =\"X\"\n",
    "    else:\n",
    "        turn =\"O\"\n",
    "    board[n] = turn\n",
    "    for i in range(0,3):                                                               # Checking X wins or O        \n",
    "        print((\"|\").join(board[i:9:3])) \n",
    "    if board[0:3].count('X') == 3  or board[0:3].count('O') == 3  :  \n",
    "        print(\"Hurray wins\")\n",
    "        break\n",
    "    elif board[3:6].count('X') == 3 or board[3:6].count('O') == 3: \n",
    "        print(\"Hurray wins\")\n",
    "        break\n",
    "    elif board[6:9].count('X') == 3 or board[6:9].count('O') == 3:\n",
    "        print(\"Hurray wins\")\n",
    "        break\n",
    "    elif board[0:9:3].count('X') == 3 or board[0:9:3].count('O') == 3:\n",
    "        print(\"Hurray wins\")\n",
    "        break\n",
    "    elif board[1:9:3].count('X') == 3 or board[1:9:3].count('O') == 3:\n",
    "        print(\"Hurray wins\")\n",
    "        break\n",
    "    elif board[2:9:3].count('X') == 3 or board[2:9:3].count('O') == 3:\n",
    "        print(\"Hurray wins\")\n",
    "        break\n",
    "    elif board[0:9:4].count('X') == 3 or board[0:9:4].count('O') == 3:\n",
    "        print(\"Hurray wins\")\n",
    "        break\n",
    "    elif board[2:9:2].count('X') == 3 or board[2:9:2].count('O') == 3:\n",
    "        print(\"Hurray wins\")\n",
    "        break\n",
    "    elif board[0:9].count('-') == 0: \n",
    "        print(\"Tie\")\n",
    "        break  "
   ]
  },
  {
   "cell_type": "markdown",
   "id": "454edf19",
   "metadata": {},
   "source": [
    "# Battleship"
   ]
  },
  {
   "cell_type": "code",
   "execution_count": null,
   "id": "ead60de2",
   "metadata": {},
   "outputs": [],
   "source": [
    "from random import randint\n",
    "board = []\n",
    "for x in range(0,3):                                       \n",
    "    board.append([\"0\"]*3)\n",
    "for row in board:\n",
    "    print(\"|\".join(row))\n",
    "ship_row = randint(0, 3)\n",
    "ship_col = randint(0, 3)\n",
    "print(ship_row)\n",
    "print(ship_col)\n",
    "for turn in range(3):\n",
    "        print(\"TURN \", turn+1)\n",
    "        guess_row = int(input(\"Guess Row 1-3: \"))\n",
    "        guess_col = int(input(\"Guess Col 1-3: \"))\n",
    "        \n",
    "        if guess_row == ship_row and guess_col == ship_col:\n",
    "            print (\"Congo!!!!!! You sank my battleship!\")\n",
    "            board[guess_row-1][guess_col-1] = 'X'\n",
    "            break\n",
    "        elif board[guess_row][guess_col] == \"X\":\n",
    "            print( \"You guessed that one already.\" )    \n",
    "        else:\n",
    "            board[guess_row-1][guess_col-1] = 'X'\n",
    "            print (\"You missed my battleship!\")\n",
    "            for row in board:\n",
    "                print(\" \".join(row))"
   ]
  }
 ],
 "metadata": {
  "kernelspec": {
   "display_name": "Python 3",
   "language": "python",
   "name": "python3"
  },
  "language_info": {
   "codemirror_mode": {
    "name": "ipython",
    "version": 3
   },
   "file_extension": ".py",
   "mimetype": "text/x-python",
   "name": "python",
   "nbconvert_exporter": "python",
   "pygments_lexer": "ipython3",
   "version": "3.8.8"
  }
 },
 "nbformat": 4,
 "nbformat_minor": 5
}
